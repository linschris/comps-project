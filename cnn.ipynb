{
 "cells": [
  {
   "cell_type": "code",
   "execution_count": null,
   "metadata": {},
   "outputs": [],
   "source": [
    "import tensorflow as tf\n",
    "from process_data import *\n",
    "from tensorflow.python.keras.engine.sequential import Sequential\n",
    "from tensorflow.python.keras.layers import Dense, Dropout, Activation, Flatten, Conv2D, MaxPooling2D\n",
    "import matplotlib.pyplot as plt\n",
    "import pstats\n",
    "import cProfile"
   ]
  },
  {
   "cell_type": "code",
   "execution_count": null,
   "metadata": {},
   "outputs": [],
   "source": [
    "with cProfile.Profile() as pr:\n",
    "    filepaths = grab_and_split_data (\n",
    "        \"/Users/lchris/Desktop/Coding/schoolprojects/comp490/COMPS/data/video/train\",\n",
    "        \"/Users/lchris/Desktop/Coding/schoolprojects/comp490/COMPS/data/video/validate\"\n",
    "    )\n",
    "    trainX, trainY = view_tf_records(filepaths[\"train_files\"], 20000)\n",
    "    validX, validY = view_tf_records(filepaths[\"test_files\"], 20000)\n",
    "    # validX, validY = view_tf_records(filepaths[\"validation_files\"], 300000)\n",
    "    # view_tf_records(filepaths[\"train_files\"], 100)\n",
    "\n",
    "\n",
    "    print(trainX.shape, trainY.shape)\n",
    "    # print(testX.shape, testY.shape)\n",
    "    # print(validX.shape, validY.shape)\n",
    "\n",
    "stats = pstats.Stats(pr)\n",
    "stats.sort_stats(pstats.SortKey.TIME)\n",
    "# stats.print_stats()\n",
    "stats.dump_stats(filename='needs_profiling.prof')\n"
   ]
  },
  {
   "cell_type": "code",
   "execution_count": 3,
   "metadata": {},
   "outputs": [
    {
     "name": "stdout",
     "output_type": "stream",
     "text": [
      "(17394, 256, 256, 3)\n",
      "(17394, 3862)\n",
      "(15851, 256, 256, 3)\n",
      "(15851, 3862)\n"
     ]
    }
   ],
   "source": [
    "print(trainX.shape)\n",
    "print(trainY.shape)\n",
    "print(validX.shape)\n",
    "print(validY.shape)\n"
   ]
  },
  {
   "cell_type": "code",
   "execution_count": 4,
   "metadata": {},
   "outputs": [],
   "source": [
    "import csv\n",
    "\n",
    "def convert_csv_to_dict(file_path: str) -> dict:\n",
    "    values = {}\n",
    "    with open(file_path) as csv_file:\n",
    "        csv_file = csv.reader(csv_file)\n",
    "        for i, row in enumerate(csv_file):\n",
    "            if i > 0:\n",
    "                values[int(row[0])] = row[3]\n",
    "    \n",
    "    return values\n",
    "\n",
    "            \n",
    "str_labels = convert_csv_to_dict(\"/Users/lchris/Desktop/Coding/schoolprojects/comp490/COMPS/vocab.csv\")"
   ]
  },
  {
   "cell_type": "code",
   "execution_count": null,
   "metadata": {},
   "outputs": [],
   "source": [
    "import random\n",
    "\n",
    "def show_batch(image_batch, label_batch):\n",
    "    plt.figure(figsize=(300, 300))\n",
    "    for n in range(len(image_batch)):\n",
    "        ax = plt.subplot(5,20, n+1)\n",
    "        plt.imshow(image_batch[n])\n",
    "        labels = [label for label, x in enumerate(label_batch[n]) if x == 1]\n",
    "        title_str = ''\n",
    "        for label in labels:\n",
    "            title_str += str_labels[label] + \",\\n\"\n",
    "        # print(title_str)\n",
    "        plt.title(title_str, fontsize=80)\n",
    "        plt.axis(\"off\")\n",
    "\n",
    "# show_batch(trainX, trainY)\n",
    "\n",
    "# print(trainX.shape, trainY.shape)\n",
    "\n"
   ]
  },
  {
   "cell_type": "code",
   "execution_count": 5,
   "metadata": {},
   "outputs": [
    {
     "name": "stdout",
     "output_type": "stream",
     "text": [
      "Epoch 1/20\n",
      "544/544 [==============================] - 213s 387ms/step - loss: 0.0105 - accuracy: 0.1323 - val_loss: 0.0366 - val_accuracy: 0.1910\n",
      "Epoch 2/20\n",
      "544/544 [==============================] - 207s 381ms/step - loss: 0.0048 - accuracy: 0.1862 - val_loss: 0.0141 - val_accuracy: 0.1712\n",
      "Epoch 3/20\n",
      "544/544 [==============================] - 210s 385ms/step - loss: 0.0047 - accuracy: 0.2093 - val_loss: 0.0117 - val_accuracy: 0.2300\n",
      "Epoch 4/20\n",
      "544/544 [==============================] - 208s 383ms/step - loss: 0.0047 - accuracy: 0.2217 - val_loss: 0.0073 - val_accuracy: 0.2296\n",
      "Epoch 5/20\n",
      "544/544 [==============================] - 210s 385ms/step - loss: 0.0046 - accuracy: 0.2341 - val_loss: 0.0071 - val_accuracy: 0.2510\n",
      "Epoch 6/20\n",
      "544/544 [==============================] - 209s 385ms/step - loss: 0.0045 - accuracy: 0.2428 - val_loss: 0.0057 - val_accuracy: 0.2375\n",
      "Epoch 7/20\n",
      "544/544 [==============================] - 211s 388ms/step - loss: 0.0044 - accuracy: 0.2571 - val_loss: 0.0049 - val_accuracy: 0.2735\n",
      "Epoch 8/20\n",
      "544/544 [==============================] - 213s 391ms/step - loss: 0.0043 - accuracy: 0.2703 - val_loss: 0.0046 - val_accuracy: 0.2560\n",
      "Epoch 9/20\n",
      "544/544 [==============================] - 214s 393ms/step - loss: 0.0042 - accuracy: 0.2793 - val_loss: 0.0046 - val_accuracy: 0.2737\n",
      "Epoch 10/20\n",
      "544/544 [==============================] - 214s 394ms/step - loss: 0.0041 - accuracy: 0.2854 - val_loss: 0.0046 - val_accuracy: 0.2404\n",
      "Epoch 11/20\n",
      "544/544 [==============================] - 216s 397ms/step - loss: 0.0040 - accuracy: 0.2995 - val_loss: 0.0044 - val_accuracy: 0.2791\n",
      "Epoch 12/20\n",
      "544/544 [==============================] - 215s 395ms/step - loss: 0.0039 - accuracy: 0.2995 - val_loss: 0.0043 - val_accuracy: 0.2731\n",
      "Epoch 13/20\n",
      "544/544 [==============================] - 217s 399ms/step - loss: 0.0039 - accuracy: 0.3080 - val_loss: 0.0043 - val_accuracy: 0.2723\n",
      "Epoch 14/20\n",
      " 32/544 [>.............................] - ETA: 2:47 - loss: 0.0038 - accuracy: 0.3096"
     ]
    },
    {
     "ename": "KeyboardInterrupt",
     "evalue": "",
     "output_type": "error",
     "traceback": [
      "\u001b[0;31m---------------------------------------------------------------------------\u001b[0m",
      "\u001b[0;31mKeyboardInterrupt\u001b[0m                         Traceback (most recent call last)",
      "\u001b[1;32m/Users/lchris/Desktop/Coding/schoolprojects/comp490/COMPS/cnn.ipynb Cell 6\u001b[0m in \u001b[0;36m<cell line: 25>\u001b[0;34m()\u001b[0m\n\u001b[1;32m     <a href='vscode-notebook-cell:/Users/lchris/Desktop/Coding/schoolprojects/comp490/COMPS/cnn.ipynb#W5sZmlsZQ%3D%3D?line=22'>23</a>\u001b[0m optimizer\u001b[39m=\u001b[39mtf\u001b[39m.\u001b[39mkeras\u001b[39m.\u001b[39moptimizers\u001b[39m.\u001b[39mAdam(learning_rate\u001b[39m=\u001b[39m\u001b[39m0.1\u001b[39m)\n\u001b[1;32m     <a href='vscode-notebook-cell:/Users/lchris/Desktop/Coding/schoolprojects/comp490/COMPS/cnn.ipynb#W5sZmlsZQ%3D%3D?line=23'>24</a>\u001b[0m model\u001b[39m.\u001b[39mcompile(optimizer\u001b[39m=\u001b[39m\u001b[39m'\u001b[39m\u001b[39madam\u001b[39m\u001b[39m'\u001b[39m, loss\u001b[39m=\u001b[39m\u001b[39m'\u001b[39m\u001b[39mbinary_crossentropy\u001b[39m\u001b[39m'\u001b[39m, metrics\u001b[39m=\u001b[39m[\u001b[39m'\u001b[39m\u001b[39maccuracy\u001b[39m\u001b[39m'\u001b[39m])\n\u001b[0;32m---> <a href='vscode-notebook-cell:/Users/lchris/Desktop/Coding/schoolprojects/comp490/COMPS/cnn.ipynb#W5sZmlsZQ%3D%3D?line=24'>25</a>\u001b[0m results \u001b[39m=\u001b[39m model\u001b[39m.\u001b[39;49mfit(trainX, trainY, epochs\u001b[39m=\u001b[39;49m\u001b[39m20\u001b[39;49m, validation_data\u001b[39m=\u001b[39;49m(validX, validY), batch_size\u001b[39m=\u001b[39;49m\u001b[39m32\u001b[39;49m)\n\u001b[1;32m     <a href='vscode-notebook-cell:/Users/lchris/Desktop/Coding/schoolprojects/comp490/COMPS/cnn.ipynb#W5sZmlsZQ%3D%3D?line=26'>27</a>\u001b[0m \u001b[39mprint\u001b[39m(results\u001b[39m.\u001b[39mhistory)\n",
      "File \u001b[0;32m~/.pyenv/versions/3.9.1/lib/python3.9/site-packages/tensorflow/python/keras/engine/training.py:1189\u001b[0m, in \u001b[0;36mModel.fit\u001b[0;34m(self, x, y, batch_size, epochs, verbose, callbacks, validation_split, validation_data, shuffle, class_weight, sample_weight, initial_epoch, steps_per_epoch, validation_steps, validation_batch_size, validation_freq, max_queue_size, workers, use_multiprocessing)\u001b[0m\n\u001b[1;32m   1182\u001b[0m \u001b[39mwith\u001b[39;00m trace\u001b[39m.\u001b[39mTrace(\n\u001b[1;32m   1183\u001b[0m     \u001b[39m'\u001b[39m\u001b[39mtrain\u001b[39m\u001b[39m'\u001b[39m,\n\u001b[1;32m   1184\u001b[0m     epoch_num\u001b[39m=\u001b[39mepoch,\n\u001b[1;32m   1185\u001b[0m     step_num\u001b[39m=\u001b[39mstep,\n\u001b[1;32m   1186\u001b[0m     batch_size\u001b[39m=\u001b[39mbatch_size,\n\u001b[1;32m   1187\u001b[0m     _r\u001b[39m=\u001b[39m\u001b[39m1\u001b[39m):\n\u001b[1;32m   1188\u001b[0m   callbacks\u001b[39m.\u001b[39mon_train_batch_begin(step)\n\u001b[0;32m-> 1189\u001b[0m   tmp_logs \u001b[39m=\u001b[39m \u001b[39mself\u001b[39;49m\u001b[39m.\u001b[39;49mtrain_function(iterator)\n\u001b[1;32m   1190\u001b[0m   \u001b[39mif\u001b[39;00m data_handler\u001b[39m.\u001b[39mshould_sync:\n\u001b[1;32m   1191\u001b[0m     context\u001b[39m.\u001b[39masync_wait()\n",
      "File \u001b[0;32m~/.pyenv/versions/3.9.1/lib/python3.9/site-packages/tensorflow/python/util/traceback_utils.py:150\u001b[0m, in \u001b[0;36mfilter_traceback.<locals>.error_handler\u001b[0;34m(*args, **kwargs)\u001b[0m\n\u001b[1;32m    148\u001b[0m filtered_tb \u001b[39m=\u001b[39m \u001b[39mNone\u001b[39;00m\n\u001b[1;32m    149\u001b[0m \u001b[39mtry\u001b[39;00m:\n\u001b[0;32m--> 150\u001b[0m   \u001b[39mreturn\u001b[39;00m fn(\u001b[39m*\u001b[39;49margs, \u001b[39m*\u001b[39;49m\u001b[39m*\u001b[39;49mkwargs)\n\u001b[1;32m    151\u001b[0m \u001b[39mexcept\u001b[39;00m \u001b[39mException\u001b[39;00m \u001b[39mas\u001b[39;00m e:\n\u001b[1;32m    152\u001b[0m   filtered_tb \u001b[39m=\u001b[39m _process_traceback_frames(e\u001b[39m.\u001b[39m__traceback__)\n",
      "File \u001b[0;32m~/.pyenv/versions/3.9.1/lib/python3.9/site-packages/tensorflow/python/eager/def_function.py:915\u001b[0m, in \u001b[0;36mFunction.__call__\u001b[0;34m(self, *args, **kwds)\u001b[0m\n\u001b[1;32m    912\u001b[0m compiler \u001b[39m=\u001b[39m \u001b[39m\"\u001b[39m\u001b[39mxla\u001b[39m\u001b[39m\"\u001b[39m \u001b[39mif\u001b[39;00m \u001b[39mself\u001b[39m\u001b[39m.\u001b[39m_jit_compile \u001b[39melse\u001b[39;00m \u001b[39m\"\u001b[39m\u001b[39mnonXla\u001b[39m\u001b[39m\"\u001b[39m\n\u001b[1;32m    914\u001b[0m \u001b[39mwith\u001b[39;00m OptionalXlaContext(\u001b[39mself\u001b[39m\u001b[39m.\u001b[39m_jit_compile):\n\u001b[0;32m--> 915\u001b[0m   result \u001b[39m=\u001b[39m \u001b[39mself\u001b[39;49m\u001b[39m.\u001b[39;49m_call(\u001b[39m*\u001b[39;49margs, \u001b[39m*\u001b[39;49m\u001b[39m*\u001b[39;49mkwds)\n\u001b[1;32m    917\u001b[0m new_tracing_count \u001b[39m=\u001b[39m \u001b[39mself\u001b[39m\u001b[39m.\u001b[39mexperimental_get_tracing_count()\n\u001b[1;32m    918\u001b[0m without_tracing \u001b[39m=\u001b[39m (tracing_count \u001b[39m==\u001b[39m new_tracing_count)\n",
      "File \u001b[0;32m~/.pyenv/versions/3.9.1/lib/python3.9/site-packages/tensorflow/python/eager/def_function.py:947\u001b[0m, in \u001b[0;36mFunction._call\u001b[0;34m(self, *args, **kwds)\u001b[0m\n\u001b[1;32m    944\u001b[0m   \u001b[39mself\u001b[39m\u001b[39m.\u001b[39m_lock\u001b[39m.\u001b[39mrelease()\n\u001b[1;32m    945\u001b[0m   \u001b[39m# In this case we have created variables on the first call, so we run the\u001b[39;00m\n\u001b[1;32m    946\u001b[0m   \u001b[39m# defunned version which is guaranteed to never create variables.\u001b[39;00m\n\u001b[0;32m--> 947\u001b[0m   \u001b[39mreturn\u001b[39;00m \u001b[39mself\u001b[39;49m\u001b[39m.\u001b[39;49m_stateless_fn(\u001b[39m*\u001b[39;49margs, \u001b[39m*\u001b[39;49m\u001b[39m*\u001b[39;49mkwds)  \u001b[39m# pylint: disable=not-callable\u001b[39;00m\n\u001b[1;32m    948\u001b[0m \u001b[39melif\u001b[39;00m \u001b[39mself\u001b[39m\u001b[39m.\u001b[39m_stateful_fn \u001b[39mis\u001b[39;00m \u001b[39mnot\u001b[39;00m \u001b[39mNone\u001b[39;00m:\n\u001b[1;32m    949\u001b[0m   \u001b[39m# Release the lock early so that multiple threads can perform the call\u001b[39;00m\n\u001b[1;32m    950\u001b[0m   \u001b[39m# in parallel.\u001b[39;00m\n\u001b[1;32m    951\u001b[0m   \u001b[39mself\u001b[39m\u001b[39m.\u001b[39m_lock\u001b[39m.\u001b[39mrelease()\n",
      "File \u001b[0;32m~/.pyenv/versions/3.9.1/lib/python3.9/site-packages/tensorflow/python/eager/function.py:2453\u001b[0m, in \u001b[0;36mFunction.__call__\u001b[0;34m(self, *args, **kwargs)\u001b[0m\n\u001b[1;32m   2450\u001b[0m \u001b[39mwith\u001b[39;00m \u001b[39mself\u001b[39m\u001b[39m.\u001b[39m_lock:\n\u001b[1;32m   2451\u001b[0m   (graph_function,\n\u001b[1;32m   2452\u001b[0m    filtered_flat_args) \u001b[39m=\u001b[39m \u001b[39mself\u001b[39m\u001b[39m.\u001b[39m_maybe_define_function(args, kwargs)\n\u001b[0;32m-> 2453\u001b[0m \u001b[39mreturn\u001b[39;00m graph_function\u001b[39m.\u001b[39;49m_call_flat(\n\u001b[1;32m   2454\u001b[0m     filtered_flat_args, captured_inputs\u001b[39m=\u001b[39;49mgraph_function\u001b[39m.\u001b[39;49mcaptured_inputs)\n",
      "File \u001b[0;32m~/.pyenv/versions/3.9.1/lib/python3.9/site-packages/tensorflow/python/eager/function.py:1860\u001b[0m, in \u001b[0;36mConcreteFunction._call_flat\u001b[0;34m(self, args, captured_inputs, cancellation_manager)\u001b[0m\n\u001b[1;32m   1856\u001b[0m possible_gradient_type \u001b[39m=\u001b[39m gradients_util\u001b[39m.\u001b[39mPossibleTapeGradientTypes(args)\n\u001b[1;32m   1857\u001b[0m \u001b[39mif\u001b[39;00m (possible_gradient_type \u001b[39m==\u001b[39m gradients_util\u001b[39m.\u001b[39mPOSSIBLE_GRADIENT_TYPES_NONE\n\u001b[1;32m   1858\u001b[0m     \u001b[39mand\u001b[39;00m executing_eagerly):\n\u001b[1;32m   1859\u001b[0m   \u001b[39m# No tape is watching; skip to running the function.\u001b[39;00m\n\u001b[0;32m-> 1860\u001b[0m   \u001b[39mreturn\u001b[39;00m \u001b[39mself\u001b[39m\u001b[39m.\u001b[39m_build_call_outputs(\u001b[39mself\u001b[39;49m\u001b[39m.\u001b[39;49m_inference_function\u001b[39m.\u001b[39;49mcall(\n\u001b[1;32m   1861\u001b[0m       ctx, args, cancellation_manager\u001b[39m=\u001b[39;49mcancellation_manager))\n\u001b[1;32m   1862\u001b[0m forward_backward \u001b[39m=\u001b[39m \u001b[39mself\u001b[39m\u001b[39m.\u001b[39m_select_forward_and_backward_functions(\n\u001b[1;32m   1863\u001b[0m     args,\n\u001b[1;32m   1864\u001b[0m     possible_gradient_type,\n\u001b[1;32m   1865\u001b[0m     executing_eagerly)\n\u001b[1;32m   1866\u001b[0m forward_function, args_with_tangents \u001b[39m=\u001b[39m forward_backward\u001b[39m.\u001b[39mforward()\n",
      "File \u001b[0;32m~/.pyenv/versions/3.9.1/lib/python3.9/site-packages/tensorflow/python/eager/function.py:497\u001b[0m, in \u001b[0;36m_EagerDefinedFunction.call\u001b[0;34m(self, ctx, args, cancellation_manager)\u001b[0m\n\u001b[1;32m    495\u001b[0m \u001b[39mwith\u001b[39;00m _InterpolateFunctionError(\u001b[39mself\u001b[39m):\n\u001b[1;32m    496\u001b[0m   \u001b[39mif\u001b[39;00m cancellation_manager \u001b[39mis\u001b[39;00m \u001b[39mNone\u001b[39;00m:\n\u001b[0;32m--> 497\u001b[0m     outputs \u001b[39m=\u001b[39m execute\u001b[39m.\u001b[39;49mexecute(\n\u001b[1;32m    498\u001b[0m         \u001b[39mstr\u001b[39;49m(\u001b[39mself\u001b[39;49m\u001b[39m.\u001b[39;49msignature\u001b[39m.\u001b[39;49mname),\n\u001b[1;32m    499\u001b[0m         num_outputs\u001b[39m=\u001b[39;49m\u001b[39mself\u001b[39;49m\u001b[39m.\u001b[39;49m_num_outputs,\n\u001b[1;32m    500\u001b[0m         inputs\u001b[39m=\u001b[39;49margs,\n\u001b[1;32m    501\u001b[0m         attrs\u001b[39m=\u001b[39;49mattrs,\n\u001b[1;32m    502\u001b[0m         ctx\u001b[39m=\u001b[39;49mctx)\n\u001b[1;32m    503\u001b[0m   \u001b[39melse\u001b[39;00m:\n\u001b[1;32m    504\u001b[0m     outputs \u001b[39m=\u001b[39m execute\u001b[39m.\u001b[39mexecute_with_cancellation(\n\u001b[1;32m    505\u001b[0m         \u001b[39mstr\u001b[39m(\u001b[39mself\u001b[39m\u001b[39m.\u001b[39msignature\u001b[39m.\u001b[39mname),\n\u001b[1;32m    506\u001b[0m         num_outputs\u001b[39m=\u001b[39m\u001b[39mself\u001b[39m\u001b[39m.\u001b[39m_num_outputs,\n\u001b[0;32m   (...)\u001b[0m\n\u001b[1;32m    509\u001b[0m         ctx\u001b[39m=\u001b[39mctx,\n\u001b[1;32m    510\u001b[0m         cancellation_manager\u001b[39m=\u001b[39mcancellation_manager)\n",
      "File \u001b[0;32m~/.pyenv/versions/3.9.1/lib/python3.9/site-packages/tensorflow/python/eager/execute.py:54\u001b[0m, in \u001b[0;36mquick_execute\u001b[0;34m(op_name, num_outputs, inputs, attrs, ctx, name)\u001b[0m\n\u001b[1;32m     52\u001b[0m \u001b[39mtry\u001b[39;00m:\n\u001b[1;32m     53\u001b[0m   ctx\u001b[39m.\u001b[39mensure_initialized()\n\u001b[0;32m---> 54\u001b[0m   tensors \u001b[39m=\u001b[39m pywrap_tfe\u001b[39m.\u001b[39;49mTFE_Py_Execute(ctx\u001b[39m.\u001b[39;49m_handle, device_name, op_name,\n\u001b[1;32m     55\u001b[0m                                       inputs, attrs, num_outputs)\n\u001b[1;32m     56\u001b[0m \u001b[39mexcept\u001b[39;00m core\u001b[39m.\u001b[39m_NotOkStatusException \u001b[39mas\u001b[39;00m e:\n\u001b[1;32m     57\u001b[0m   \u001b[39mif\u001b[39;00m name \u001b[39mis\u001b[39;00m \u001b[39mnot\u001b[39;00m \u001b[39mNone\u001b[39;00m:\n",
      "\u001b[0;31mKeyboardInterrupt\u001b[0m: "
     ]
    }
   ],
   "source": [
    "model = Sequential()\n",
    "model.add(Conv2D(filters=16, kernel_size=(2, 2), activation='relu', input_shape=(256, 256, 3)))\n",
    "model.add(MaxPooling2D(pool_size=(2, 2)))\n",
    "model.add(Dropout(0.2))\n",
    "\n",
    "model.add(Conv2D(filters=16, kernel_size=(2, 2), activation='relu'))\n",
    "model.add(MaxPooling2D(pool_size=(2, 2)))\n",
    "model.add(Dropout(0.2))\n",
    "\n",
    "model.add(Conv2D(filters=16, kernel_size=(2, 2), activation='relu'))\n",
    "model.add(MaxPooling2D(pool_size=(2, 2)))\n",
    "model.add(Dropout(0.2))\n",
    "\n",
    "model.add(Flatten())\n",
    "model.add(Dense(256, activation='relu'))\n",
    "model.add(Dropout(0.2))\n",
    "model.add(Dense(256, activation='relu'))\n",
    "model.add(Dropout(0.2))\n",
    "model.add(Dense(3862, activation='sigmoid'))\n",
    "\n",
    "# model.summary()\n",
    "\n",
    "optimizer=tf.keras.optimizers.Adam(learning_rate=0.1)\n",
    "model.compile(optimizer='adam', loss='binary_crossentropy', metrics=['accuracy'])\n",
    "results = model.fit(trainX, trainY, epochs=10, validation_data=(validX, validY), batch_size=32)\n",
    "\n",
    "print(results.history)"
   ]
  },
  {
   "cell_type": "code",
   "execution_count": 6,
   "metadata": {},
   "outputs": [
    {
     "ename": "NameError",
     "evalue": "name 'show_batch' is not defined",
     "output_type": "error",
     "traceback": [
      "\u001b[0;31m---------------------------------------------------------------------------\u001b[0m",
      "\u001b[0;31mNameError\u001b[0m                                 Traceback (most recent call last)",
      "\u001b[1;32m/Users/lchris/Desktop/Coding/schoolprojects/comp490/COMPS/cnn.ipynb Cell 7\u001b[0m in \u001b[0;36m<cell line: 3>\u001b[0;34m()\u001b[0m\n\u001b[1;32m      <a href='vscode-notebook-cell:/Users/lchris/Desktop/Coding/schoolprojects/comp490/COMPS/cnn.ipynb#W6sZmlsZQ%3D%3D?line=0'>1</a>\u001b[0m start_index \u001b[39m=\u001b[39m \u001b[39m0\u001b[39m\n\u001b[1;32m      <a href='vscode-notebook-cell:/Users/lchris/Desktop/Coding/schoolprojects/comp490/COMPS/cnn.ipynb#W6sZmlsZQ%3D%3D?line=1'>2</a>\u001b[0m end_index \u001b[39m=\u001b[39m \u001b[39m8\u001b[39m\n\u001b[0;32m----> <a href='vscode-notebook-cell:/Users/lchris/Desktop/Coding/schoolprojects/comp490/COMPS/cnn.ipynb#W6sZmlsZQ%3D%3D?line=2'>3</a>\u001b[0m show_batch(validX[start_index:end_index], validY[start_index:end_index])\n\u001b[1;32m      <a href='vscode-notebook-cell:/Users/lchris/Desktop/Coding/schoolprojects/comp490/COMPS/cnn.ipynb#W6sZmlsZQ%3D%3D?line=3'>4</a>\u001b[0m \u001b[39m# trainX[0:2].shape\u001b[39;00m\n\u001b[1;32m      <a href='vscode-notebook-cell:/Users/lchris/Desktop/Coding/schoolprojects/comp490/COMPS/cnn.ipynb#W6sZmlsZQ%3D%3D?line=4'>5</a>\u001b[0m \u001b[39m# model.predict(trainX[0:2])[0]\u001b[39;00m\n\u001b[1;32m      <a href='vscode-notebook-cell:/Users/lchris/Desktop/Coding/schoolprojects/comp490/COMPS/cnn.ipynb#W6sZmlsZQ%3D%3D?line=5'>6</a>\u001b[0m \u001b[39m# model.predict(trainX[0:2])[1]\u001b[39;00m\n\u001b[1;32m      <a href='vscode-notebook-cell:/Users/lchris/Desktop/Coding/schoolprojects/comp490/COMPS/cnn.ipynb#W6sZmlsZQ%3D%3D?line=7'>8</a>\u001b[0m \u001b[39mfor\u001b[39;00m index, model_predictions \u001b[39min\u001b[39;00m \u001b[39menumerate\u001b[39m(model\u001b[39m.\u001b[39mpredict(validX[start_index:end_index], \u001b[39m1\u001b[39m)):\n",
      "\u001b[0;31mNameError\u001b[0m: name 'show_batch' is not defined"
     ]
    }
   ],
   "source": [
    "start_index = 0\n",
    "end_index = 8\n",
    "show_batch(validX[start_index:end_index], validY[start_index:end_index])\n",
    "# trainX[0:2].shape\n",
    "# model.predict(trainX[0:2])[0]\n",
    "# model.predict(trainX[0:2])[1]\n",
    "\n",
    "for index, model_predictions in enumerate(model.predict(validX[start_index:end_index], 1)):\n",
    "    print(f\"Currently on prediction {index}\")\n",
    "    for tuple in sorted(enumerate(model_predictions, 1), key=lambda x: x[1], reverse=True)[0:2]:\n",
    "        label, confidence = tuple\n",
    "        print(str_labels[label], confidence)\n",
    "    print('\\n')\n",
    "\n",
    "# for tuple in sorted(enumerate(model.predict(trainX[0:2]), 1), key=lambda x: x[1], reverse=True)[0:2]:\n",
    "#     label, confidence = tuple\n",
    "#     print(str_labels[label], confidence)"
   ]
  }
 ],
 "metadata": {
  "kernelspec": {
   "display_name": "Python 3.9.1 64-bit ('3.9.1')",
   "language": "python",
   "name": "python3"
  },
  "language_info": {
   "codemirror_mode": {
    "name": "ipython",
    "version": 3
   },
   "file_extension": ".py",
   "mimetype": "text/x-python",
   "name": "python",
   "nbconvert_exporter": "python",
   "pygments_lexer": "ipython3",
   "version": "3.9.1"
  },
  "orig_nbformat": 4,
  "vscode": {
   "interpreter": {
    "hash": "937e39ecf41c115469d4e630e36af72753c982a587f5b897dca80104b0c0dbb3"
   }
  }
 },
 "nbformat": 4,
 "nbformat_minor": 2
}
