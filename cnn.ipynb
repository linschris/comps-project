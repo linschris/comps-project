{
 "cells": [
  {
   "cell_type": "code",
   "execution_count": null,
   "metadata": {},
   "outputs": [],
   "source": [
    "import tensorflow as tf\n",
    "from process_data import *\n",
    "from tensorflow.python.keras.engine.sequential import Sequential\n",
    "from tensorflow.python.keras.layers import Dense, Dropout, Activation, Flatten, Conv2D, MaxPooling2D\n",
    "import matplotlib.pyplot as plt\n",
    "import pstats\n",
    "import cProfile"
   ]
  },
  {
   "cell_type": "code",
   "execution_count": null,
   "metadata": {},
   "outputs": [],
   "source": [
    "with cProfile.Profile() as pr:\n",
    "    filepaths = grab_and_split_data (\n",
    "        \"/Users/lchris/Desktop/Coding/schoolprojects/comp490/COMPS/data/video/train\",\n",
    "        \"/Users/lchris/Desktop/Coding/schoolprojects/comp490/COMPS/data/video/validate\"\n",
    "    )\n",
    "    trainX, trainY = view_tf_records(filepaths[\"train_files\"], 300000)\n",
    "    validX, validY = view_tf_records(filepaths[\"test_files\"], 300000)\n",
    "    # validX, validY = view_tf_records(filepaths[\"validation_files\"], 300000)\n",
    "    # view_tf_records(filepaths[\"train_files\"], 100)\n",
    "\n",
    "\n",
    "    print(trainX.shape, trainY.shape)\n",
    "    # print(testX.shape, testY.shape)\n",
    "    # print(validX.shape, validY.shape)\n",
    "\n",
    "stats = pstats.Stats(pr)\n",
    "stats.sort_stats(pstats.SortKey.TIME)\n",
    "# stats.print_stats()\n",
    "stats.dump_stats(filename='needs_profiling.prof')\n"
   ]
  },
  {
   "cell_type": "code",
   "execution_count": null,
   "metadata": {},
   "outputs": [],
   "source": [
    "print(trainX.shape)\n",
    "print(trainY.shape)\n",
    "print(validX.shape)\n",
    "print(validY.shape)\n"
   ]
  },
  {
   "cell_type": "code",
   "execution_count": null,
   "metadata": {},
   "outputs": [],
   "source": [
    "import csv\n",
    "\n",
    "def convert_csv_to_dict(file_path: str) -> dict:\n",
    "    values = {}\n",
    "    with open(file_path) as csv_file:\n",
    "        csv_file = csv.reader(csv_file)\n",
    "        for i, row in enumerate(csv_file):\n",
    "            if i > 0:\n",
    "                values[int(row[0])] = row[3]\n",
    "    \n",
    "    return values\n",
    "\n",
    "            \n",
    "str_labels = convert_csv_to_dict(\"/Users/lchris/Desktop/Coding/schoolprojects/comp490/COMPS/vocab.csv\")"
   ]
  },
  {
   "cell_type": "code",
   "execution_count": null,
   "metadata": {},
   "outputs": [],
   "source": [
    "import random\n",
    "\n",
    "def show_batch(image_batch, label_batch):\n",
    "    plt.figure(figsize=(300, 300))\n",
    "    for n in range(len(image_batch)):\n",
    "        ax = plt.subplot(5,20, n+1)\n",
    "        plt.imshow(image_batch[n])\n",
    "        labels = [label for label, x in enumerate(label_batch[n]) if x == 1]\n",
    "        title_str = ''\n",
    "        for label in labels:\n",
    "            title_str += str_labels[label] + \",\\n\"\n",
    "        # print(title_str)\n",
    "        plt.title(title_str, fontsize=80)\n",
    "        plt.axis(\"off\")\n",
    "\n",
    "# show_batch(trainX, trainY)\n",
    "\n",
    "# print(trainX.shape, trainY.shape)\n",
    "\n"
   ]
  },
  {
   "cell_type": "code",
   "execution_count": null,
   "metadata": {},
   "outputs": [],
   "source": [
    "model = Sequential()\n",
    "model.add(Conv2D(filters=16, kernel_size=(2, 2), activation='relu', input_shape=(256, 256, 3)))\n",
    "model.add(MaxPooling2D(pool_size=(2, 2)))\n",
    "model.add(Dropout(0.2))\n",
    "\n",
    "model.add(Conv2D(filters=16, kernel_size=(2, 2), activation='relu'))\n",
    "model.add(MaxPooling2D(pool_size=(2, 2)))\n",
    "model.add(Dropout(0.2))\n",
    "\n",
    "model.add(Conv2D(filters=16, kernel_size=(2, 2), activation='relu'))\n",
    "model.add(MaxPooling2D(pool_size=(2, 2)))\n",
    "model.add(Dropout(0.2))\n",
    "\n",
    "model.add(Flatten())\n",
    "model.add(Dense(256, activation='relu'))\n",
    "model.add(Dropout(0.2))\n",
    "model.add(Dense(256, activation='relu'))\n",
    "model.add(Dropout(0.2))\n",
    "model.add(Dense(3862, activation='sigmoid'))\n",
    "\n",
    "# model.summary()\n",
    "\n",
    "optimizer=tf.keras.optimizers.Adam(learning_rate=0.1)\n",
    "model.compile(optimizer='adam', loss='binary_crossentropy', metrics=['accuracy'])\n",
    "results = model.fit(trainX, trainY, epochs=20, validation_data=(validX, validY), batch_size=32)\n",
    "\n",
    "print(results.history)"
   ]
  },
  {
   "cell_type": "code",
   "execution_count": null,
   "metadata": {},
   "outputs": [],
   "source": [
    "start_index = 0\n",
    "end_index = 8\n",
    "show_batch(validX[start_index:end_index], validY[start_index:end_index])\n",
    "# trainX[0:2].shape\n",
    "# model.predict(trainX[0:2])[0]\n",
    "# model.predict(trainX[0:2])[1]\n",
    "\n",
    "for index, model_predictions in enumerate(model.predict(validX[start_index:end_index], 1)):\n",
    "    print(f\"Currently on prediction {index}\")\n",
    "    for tuple in sorted(enumerate(model_predictions, 1), key=lambda x: x[1], reverse=True)[0:2]:\n",
    "        label, confidence = tuple\n",
    "        print(str_labels[label], confidence)\n",
    "    print('\\n')\n",
    "\n",
    "# for tuple in sorted(enumerate(model.predict(trainX[0:2]), 1), key=lambda x: x[1], reverse=True)[0:2]:\n",
    "#     label, confidence = tuple\n",
    "#     print(str_labels[label], confidence)"
   ]
  }
 ],
 "metadata": {
  "kernelspec": {
   "display_name": "Python 3.9.1 64-bit ('3.9.1')",
   "language": "python",
   "name": "python3"
  },
  "language_info": {
   "codemirror_mode": {
    "name": "ipython",
    "version": 3
   },
   "file_extension": ".py",
   "mimetype": "text/x-python",
   "name": "python",
   "nbconvert_exporter": "python",
   "pygments_lexer": "ipython3",
   "version": "3.9.1"
  },
  "orig_nbformat": 4,
  "vscode": {
   "interpreter": {
    "hash": "937e39ecf41c115469d4e630e36af72753c982a587f5b897dca80104b0c0dbb3"
   }
  }
 },
 "nbformat": 4,
 "nbformat_minor": 2
}
